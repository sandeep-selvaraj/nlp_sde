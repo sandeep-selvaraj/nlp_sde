{
  "nbformat": 4,
  "nbformat_minor": 0,
  "metadata": {
    "colab": {
      "provenance": [],
      "toc_visible": true,
      "include_colab_link": true
    },
    "kernelspec": {
      "name": "python3",
      "display_name": "Python 3"
    },
    "language_info": {
      "name": "python"
    }
  },
  "cells": [
    {
      "cell_type": "markdown",
      "metadata": {
        "id": "view-in-github",
        "colab_type": "text"
      },
      "source": [
        "<a href=\"https://colab.research.google.com/github/sandeep-selvaraj/nlp_sde/blob/main/READONLY_COPY_SDE_WS22_23_Excercise_9_Pytorch%2BWord_Embeddings.ipynb\" target=\"_parent\"><img src=\"https://colab.research.google.com/assets/colab-badge.svg\" alt=\"Open In Colab\"/></a>"
      ]
    },
    {
      "cell_type": "markdown",
      "metadata": {
        "id": "ysAmgMvHjrp_"
      },
      "source": [
        "# 0. First Steps: Store this notebook!\n",
        "\n",
        "\n",
        "Go to \"File\" and make sure you store this file as a local copy to your Google Drive. If you do not have a Google account and also do not want to create one, please check Option *B* below. "
      ]
    },
    {
      "cell_type": "markdown",
      "metadata": {
        "id": "Ddv-6ADkjtQ-"
      },
      "source": [
        "Option A) Google Drive WITH collaboration\n",
        "\n",
        "If you want to work in a collaborative manner where each of you in the group can see each other's contributions, one of you needs to store the notebook in Google Drive and share it with the others. You share it by clicking on the SHARE button on the top right of this page and share the link with the \"everyone who receives this link can edit\" option with the other team members per e-mail, skype, or any other way you prefer.\n",
        "\n",
        "If you work with others, keep in mind to always copy the code before you edit it and always indicate your name as a comment (e.g. #Dagmar ) in the cell that it is clear who wrote which part. I also recommend creating a new code cell for your contributions."
      ]
    },
    {
      "cell_type": "markdown",
      "metadata": {
        "id": "UyLJ5C5Ikrmy"
      },
      "source": []
    },
    {
      "cell_type": "markdown",
      "metadata": {
        "id": "FK33HnCZjyot"
      },
      "source": [
        "Option B) Download this notebook as ipynb (Jupyter notebook) or py (Python file)\n",
        "\n",
        "To run either of these on your local machine requires the installation of the required programs, which for the first tutorial are Python and NLTK. This will become more as we continue on to machine learning (requiring sklearn) and deep learning (requiring tensorflow and/or pytorch). In Google Codelab all of these are provided and do not need to be installed locally.\n",
        "\n",
        "## License stuff\n",
        "This excercise is based on the Semantic Computing Course by [Dagmar Grohmann](https://github.com/dgromann/SemComp_WS2018).\n",
        "\n"
      ]
    },
    {
      "cell_type": "markdown",
      "metadata": {
        "id": "llRJLqnF_4Hx"
      },
      "source": [
        "# 1: Pytorch Basic Data Structures\n",
        "\n",
        "In order to get started with deep learning and practically code up neural networks, we need to familiarize ourselves with the packages that can be used to this end. There are two basic open source machine learning frameworks that can be used to this end: \n",
        "\n",
        "*   TensorFlow (Google)\n",
        "*   Torch (Facebook, Google DeepMind, Twitter)\n",
        "\n",
        "Since these are high level core libraries, it is easier to use a framework that builds on top of it and adds some usability and documentation. We are going to for once not use the Google solution, but will go with the Facebook solution of Pytorch. This first part of today's tutorial will introduce you to some core concepts of Pytorch before we start working with embeddings.\n",
        "\n",
        "\n",
        "\n"
      ]
    },
    {
      "cell_type": "code",
      "execution_count": 1,
      "metadata": {
        "id": "4zHofgv7Ksp8",
        "outputId": "6ce9f395-1a34-4ac6-e6a9-4d9b6a5f5868",
        "colab": {
          "base_uri": "https://localhost:8080/"
        }
      },
      "outputs": [
        {
          "output_type": "stream",
          "name": "stdout",
          "text": [
            "Looking in indexes: https://pypi.org/simple, https://us-python.pkg.dev/colab-wheels/public/simple/\n",
            "Requirement already satisfied: torch in /usr/local/lib/python3.8/dist-packages (1.13.1+cu116)\n",
            "Requirement already satisfied: torchvision in /usr/local/lib/python3.8/dist-packages (0.14.1+cu116)\n",
            "Requirement already satisfied: tqdm in /usr/local/lib/python3.8/dist-packages (4.64.1)\n",
            "Requirement already satisfied: gensim in /usr/local/lib/python3.8/dist-packages (3.6.0)\n",
            "Requirement already satisfied: typing-extensions in /usr/local/lib/python3.8/dist-packages (from torch) (4.4.0)\n",
            "Requirement already satisfied: numpy in /usr/local/lib/python3.8/dist-packages (from torchvision) (1.21.6)\n",
            "Requirement already satisfied: pillow!=8.3.*,>=5.3.0 in /usr/local/lib/python3.8/dist-packages (from torchvision) (7.1.2)\n",
            "Requirement already satisfied: requests in /usr/local/lib/python3.8/dist-packages (from torchvision) (2.25.1)\n",
            "Requirement already satisfied: six>=1.5.0 in /usr/local/lib/python3.8/dist-packages (from gensim) (1.15.0)\n",
            "Requirement already satisfied: smart-open>=1.2.1 in /usr/local/lib/python3.8/dist-packages (from gensim) (6.3.0)\n",
            "Requirement already satisfied: scipy>=0.18.1 in /usr/local/lib/python3.8/dist-packages (from gensim) (1.7.3)\n",
            "Requirement already satisfied: urllib3<1.27,>=1.21.1 in /usr/local/lib/python3.8/dist-packages (from requests->torchvision) (1.24.3)\n",
            "Requirement already satisfied: chardet<5,>=3.0.2 in /usr/local/lib/python3.8/dist-packages (from requests->torchvision) (4.0.0)\n",
            "Requirement already satisfied: idna<3,>=2.5 in /usr/local/lib/python3.8/dist-packages (from requests->torchvision) (2.10)\n",
            "Requirement already satisfied: certifi>=2017.4.17 in /usr/local/lib/python3.8/dist-packages (from requests->torchvision) (2022.12.7)\n"
          ]
        }
      ],
      "source": [
        "# Let's first install pytorch blabla\n",
        "!pip3 install torch torchvision tqdm gensim"
      ]
    },
    {
      "cell_type": "markdown",
      "source": [
        "## Tensors"
      ],
      "metadata": {
        "id": "jP-C3bBWM5uA"
      }
    },
    {
      "cell_type": "markdown",
      "source": [
        "Tensors are the main data structure used by PyTorch. They are quite similar to Numpy ndarrays, except that Tensors can run on the GPU. Tensors are used to encode the inputs and outputs of a neural network. \n",
        "\n",
        "There are many ways to initialize tensors."
      ],
      "metadata": {
        "id": "oB0_CJtFkPvT"
      }
    },
    {
      "cell_type": "code",
      "source": [
        "import numpy as np\n",
        "import torch\n",
        "\n",
        "x = torch.randn(3,3)\n",
        "x"
      ],
      "metadata": {
        "id": "bXPicadqk8-1",
        "outputId": "ad249db0-f226-48a5-ace1-917badf065c9",
        "colab": {
          "base_uri": "https://localhost:8080/"
        }
      },
      "execution_count": null,
      "outputs": [
        {
          "output_type": "execute_result",
          "data": {
            "text/plain": [
              "tensor([[-0.4699, -0.3743,  1.2208],\n",
              "        [-1.5002, -1.3643, -0.0872],\n",
              "        [ 1.5101,  0.9968,  1.1127]])"
            ]
          },
          "metadata": {},
          "execution_count": 3
        }
      ]
    },
    {
      "cell_type": "code",
      "source": [
        "data = [[1, 2, 3], [4, 5, 6], [7, 8, 9]]\n",
        "x = torch.tensor(data)\n",
        "x"
      ],
      "metadata": {
        "id": "m-mcaJasTiES"
      },
      "execution_count": null,
      "outputs": []
    },
    {
      "cell_type": "code",
      "source": [
        "np_array = np.array([[1, 2, 3], [4, 5, 6], [7, 8, 9]])\n",
        "x = torch.from_numpy(np_array)\n",
        "x"
      ],
      "metadata": {
        "id": "XLPBKq8vTygE"
      },
      "execution_count": null,
      "outputs": []
    },
    {
      "cell_type": "markdown",
      "source": [
        "Tensor attributes describe their shape, datatype, and the device on which they are stored."
      ],
      "metadata": {
        "id": "M5N6Dsy7U5k6"
      }
    },
    {
      "cell_type": "code",
      "source": [
        "x.shape"
      ],
      "metadata": {
        "id": "515ur9colB-H"
      },
      "execution_count": null,
      "outputs": []
    },
    {
      "cell_type": "code",
      "source": [
        "x.dtype"
      ],
      "metadata": {
        "id": "CuXb9_9WUp5Y"
      },
      "execution_count": null,
      "outputs": []
    },
    {
      "cell_type": "code",
      "source": [
        "x.device"
      ],
      "metadata": {
        "id": "kv68b6LlVDRk"
      },
      "execution_count": null,
      "outputs": []
    },
    {
      "cell_type": "markdown",
      "source": [
        "It is very easy to manipulate Tensors using mathematical operators."
      ],
      "metadata": {
        "id": "XdhpRIv-VFV8"
      }
    },
    {
      "cell_type": "code",
      "source": [
        "x = torch.tensor([[1, 2], [3, 4]])\n",
        "y = torch.tensor([[5, 6], [7, 8]])"
      ],
      "metadata": {
        "id": "TcJ2c_TmlVL2"
      },
      "execution_count": null,
      "outputs": []
    },
    {
      "cell_type": "code",
      "source": [
        "torch.add(x, y)"
      ],
      "metadata": {
        "id": "XvK0GBuul2tZ"
      },
      "execution_count": null,
      "outputs": []
    },
    {
      "cell_type": "code",
      "source": [
        "x + y"
      ],
      "metadata": {
        "id": "z32VARN3mG-_"
      },
      "execution_count": null,
      "outputs": []
    },
    {
      "cell_type": "code",
      "source": [
        "x.add(y)"
      ],
      "metadata": {
        "id": "OwUmMtcCmqCo"
      },
      "execution_count": null,
      "outputs": []
    },
    {
      "cell_type": "code",
      "source": [
        "torch.mul(x, y)"
      ],
      "metadata": {
        "id": "R0ZuojwRmX0t"
      },
      "execution_count": null,
      "outputs": []
    },
    {
      "cell_type": "markdown",
      "source": [
        "Indexing works the same way as with Numpy."
      ],
      "metadata": {
        "id": "rss2h4q6WSWz"
      }
    },
    {
      "cell_type": "code",
      "source": [
        "x = torch.tensor([[1, 2, 3], [4, 5, 6], [7, 8, 9]])\n",
        "x"
      ],
      "metadata": {
        "id": "vezwiYhKmU6L"
      },
      "execution_count": null,
      "outputs": []
    },
    {
      "cell_type": "code",
      "source": [
        "x[0]"
      ],
      "metadata": {
        "id": "fbY8LPO0WfGF"
      },
      "execution_count": null,
      "outputs": []
    },
    {
      "cell_type": "code",
      "source": [
        "x[0][0]"
      ],
      "metadata": {
        "id": "F5HdNcpqWoIr"
      },
      "execution_count": null,
      "outputs": []
    },
    {
      "cell_type": "code",
      "source": [
        "x[1:]"
      ],
      "metadata": {
        "id": "Nre8w7EIWjDD"
      },
      "execution_count": null,
      "outputs": []
    },
    {
      "cell_type": "markdown",
      "source": [
        "Changing a tensor into a python data type using `.item()`"
      ],
      "metadata": {
        "id": "mqDXzwLiMC5L"
      }
    },
    {
      "cell_type": "code",
      "source": [
        "x[0][0] # tensor"
      ],
      "metadata": {
        "id": "drFnMFuAMRuS"
      },
      "execution_count": null,
      "outputs": []
    },
    {
      "cell_type": "code",
      "source": [
        "x[0][0].item() # not a tensor anymore!"
      ],
      "metadata": {
        "id": "hZTxqY1vMCS5"
      },
      "execution_count": null,
      "outputs": []
    },
    {
      "cell_type": "markdown",
      "source": [
        "Let's visualize Tensors!"
      ],
      "metadata": {
        "id": "6JNOh9sT_X3C"
      }
    },
    {
      "cell_type": "code",
      "source": [
        "data = [[[0,  1,  2,  3,  4],  [5,  6,  7,  8,  9]],\n",
        "        [[10, 11, 12, 13, 14], [15, 16, 17, 18, 19]],\n",
        "        [[20, 21, 22, 23, 24], [25, 26, 27, 28, 29]]]\n",
        "x = torch.tensor(data)\n",
        "x"
      ],
      "metadata": {
        "id": "QlY5HZWz_Xcv"
      },
      "execution_count": null,
      "outputs": []
    },
    {
      "cell_type": "markdown",
      "source": [
        "![Tensoren.png](data:image/png;base64,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)"
      ],
      "metadata": {
        "id": "Fy2l-4aTAt9z"
      }
    },
    {
      "cell_type": "markdown",
      "source": [
        "## 1 a)\n",
        "Calculate the sum along the three different dimensions!\n",
        "\n",
        "Reshape the 3D Tensor x into 3 different 2D Tensor by calculating this sum. The first one should have the shape (3, 5), the second one should have the shape (2, 5) and the third one should have the shape(3, 2). The dimensions are to be combined by addition.\n",
        "\n",
        "Hint: Check the [documentation](https://pytorch.org/docs/stable/index.html)"
      ],
      "metadata": {
        "id": "LFf1CZ3nCP4f"
      }
    },
    {
      "cell_type": "code",
      "source": [],
      "metadata": {
        "id": "W5_HC6joKIEe"
      },
      "execution_count": null,
      "outputs": []
    },
    {
      "cell_type": "markdown",
      "source": [
        "## 1 b)\n",
        "\n",
        "Create a Tensor consisting of ones with the shape (1, 2, 4, 5).\n",
        "\n",
        "Add this Tensor with a random Tensor with the shape (10, 4).\n",
        "\n",
        "Hint: Check the [documentation](https://pytorch.org/docs/stable/index.html)"
      ],
      "metadata": {
        "id": "7iwFxVceEYwS"
      }
    },
    {
      "cell_type": "code",
      "source": [],
      "metadata": {
        "id": "3AtpkD5vKJ1N"
      },
      "execution_count": null,
      "outputs": []
    },
    {
      "cell_type": "markdown",
      "source": [
        "# 2 PyTorch First Model\n",
        "Neural networks obtain much of their power by combining linear and non-linear functions in clever ways. In this lesson, we will learn these core components, make up an objective function and see how to train a model.\n",
        "\n",
        "## Why we use pytorch\n",
        "\n",
        "**Gradients and Backpropagation**\n",
        "\n",
        "If you set the flag  ```.requires_grad``` on a ```torch.Tensor``` to ```True``` the program will track all operations on it in order to enable later operations, such as backpropagation, which is very important to neural networks. \n",
        "\n",
        "When you finish all computations on your tensor, you can then simply call the function ```.backward()``` and have all the gradients computed automatically.. The gradient will then automatically be accumulated in the attribute ```.grad```. \n",
        "\n",
        "If you wish to disconnect a specific tensor from this process of tracking all operations, you can call the function ```.detach()```. This prevents future computations from being tracked. You can alternatively wrap the code block in a function ```with torch.no_grad()``` which does not track the operations on any variables included in the block. This is particularly helpful if you wish to evaluate a model that has trainable parameters with *required_grad=True* flags but for which we don't need the gradients in evaluation. \n",
        "\n",
        "There’s one more class which is very important for autograd implementation - a `Function`.\n",
        "\n",
        "`Tensor` and `Function` are interconnected and build up an acyclic graph, that encodes a complete history of computation. Each tensor has a `.grad_fn` attribute that references a Function that has created the `Tensor` (except for Tensors created by the user - their grad_fn is None).\n",
        "\n",
        "If you want to compute the derivatives, you can call `.backward() `on a `Tensor`. If `Tensor` is a scalar (i.e. it holds a one element data), you don’t need to specify any arguments to `backward()`, however if it has more elements, you need to specify a `gradient` argument that is a tensor of matching shape.\n",
        "\n"
      ],
      "metadata": {
        "id": "Ld6duhKaIrXI"
      }
    },
    {
      "cell_type": "code",
      "source": [
        "# Tensor that requires gradient = operations are being tracked \n",
        "x = torch.ones(2, 2, requires_grad=True)\n",
        "print(x)\n",
        "\n",
        "# Let's do some operation \n",
        "y = x + 2 \n",
        "print(y)\n",
        "\n",
        "# y was created that has a grad_fn \n",
        "print(y.grad_fn)\n",
        "\n",
        "# Some more operations \n",
        "z = y * y * 3\n",
        "\n",
        "out = z.mean()\n",
        "\n",
        "print(z, out)\n",
        "\n",
        "\n",
        "# Gradients\n",
        "# Let's calculate and print the gradietn (d(out)/dx) and print it\n",
        "out.backward()\n",
        "print(x.grad)\n",
        "\n",
        "# Stop autograd from tracking \n",
        "print(x.requires_grad)\n",
        "print((x ** 2).requires_grad)\n",
        "\n",
        "with torch.no_grad():\n",
        "    print((x ** 2).requires_grad)"
      ],
      "metadata": {
        "id": "AcgelkamIw2F"
      },
      "execution_count": null,
      "outputs": []
    },
    {
      "cell_type": "markdown",
      "source": [
        " \n",
        "\n",
        "## Base Model - Linear\n",
        "\n",
        "The base class for all neural network modules is  ```torch.nn.Module``` and all of your models should be subclasses of \n",
        "this base class, e.g. ```torch.nn.Linear```generates a linear layer. Each module has a list of parameters (e.g. size of input features and size of output features) that are subclasses of the class ```torch.nn.Parameter```. \n",
        "\n",
        "Remember a simple linear NN connects the input and the hidden layer in the following way: \n",
        "\n",
        "> $F(x) = Wx + b$\n"
      ],
      "metadata": {
        "id": "iYS2gzQwICvv"
      }
    },
    {
      "cell_type": "code",
      "source": [
        "from torch import nn, optim"
      ],
      "metadata": {
        "id": "ct-NVtnZZHut"
      },
      "execution_count": null,
      "outputs": []
    },
    {
      "cell_type": "code",
      "source": [
        "# Initialize a linear model of shape 5 for input features and shape 3 \n",
        "# for output features with a bias set to True per default\n",
        "linear = nn.Linear(5, 3)\n",
        "print(linear)\n",
        "\n",
        "# Randomly initialize a tensor\n",
        "data = torch.randn(2, 5)\n",
        "print(data)\n",
        "\n",
        "# Can we map data under A? That is, map from a five dimensional to a 3 dimensional space as defined above?\n",
        "output = linear(data)\n",
        "output"
      ],
      "metadata": {
        "id": "xOFfU5znIDUD"
      },
      "execution_count": null,
      "outputs": []
    },
    {
      "cell_type": "markdown",
      "source": [
        "### 2 a)\n",
        "What does `<AddmmBackward0>` mean? Make an educated guess!\n",
        "\n",
        "\n",
        "\n",
        "1.   Add 0 to backward\n",
        "2.   Matrix Multiplication Backwards\n",
        "3.   Backward Step of the linear layer\n",
        "4.   We use the Adam Optimizer\n",
        "\n"
      ],
      "metadata": {
        "id": "_K5XtLLtIMI9"
      }
    },
    {
      "cell_type": "markdown",
      "source": [
        "## First Small NN - Linear Layer\n",
        "\n",
        "Remember a simple linear NN connects the input and the hidden layer in the following way: \n",
        "\n",
        "> $F(x) = Wx + b$\n",
        "\n",
        "Here we use pytorch to train our first small neural network. We want the network to learn a given linear function $f: \\mathbb{R} \\to \\mathbb{R}, f(x) = 3x + 2$. \n",
        "\n",
        "First, the training data:"
      ],
      "metadata": {
        "id": "G8YhgnIc4m18"
      }
    },
    {
      "cell_type": "code",
      "source": [
        "def generate_input(num):\n",
        "  return torch.rand(num) * 20 # *20 is just for rescaling to have some nicer values and not just between 0 and 1\n",
        "\n",
        "def to_learn(x):\n",
        "  return 3*x + 2\n",
        "\n",
        "sample_input = generate_input(4)\n",
        "target = to_learn(sample_input)\n",
        "\n",
        "sample_input, target"
      ],
      "metadata": {
        "id": "64wM8iB24rWK"
      },
      "execution_count": null,
      "outputs": []
    },
    {
      "cell_type": "markdown",
      "source": [
        "Define the neural network:"
      ],
      "metadata": {
        "id": "BYyq4v9h4r3c"
      }
    },
    {
      "cell_type": "code",
      "source": [
        "class FirstModel(nn.Module):\n",
        "  \n",
        "  def __init__(self, in_dim, out_dim):\n",
        "    super(FirstModel, self).__init__()\n",
        "    self.linear = nn.Linear(in_dim, out_dim) # we only have one linear layer in our neural network!\n",
        "  \n",
        "  def forward(self, vec):\n",
        "    return self.linear(vec)"
      ],
      "metadata": {
        "id": "GTszM5yb4skC"
      },
      "execution_count": null,
      "outputs": []
    },
    {
      "cell_type": "markdown",
      "source": [
        "Train the network!"
      ],
      "metadata": {
        "id": "442FVfc34s-P"
      }
    },
    {
      "cell_type": "code",
      "source": [
        "model = FirstModel(1, 1) \n",
        "\n",
        "      \n",
        "loss_function = nn.MSELoss() # Mean Squared Error Loss\n",
        "optimizer = optim.SGD(model.parameters(), lr=0.001) # Stochastic Gradient Descent as optimizer \n",
        "\n",
        "\n",
        "for step in range(10): # Try larger values \n",
        "    for vec in generate_input(4):\n",
        "      # Let's clear the gradients before we start training since PyTorch accumulates them\n",
        "      model.zero_grad()\n",
        "      \n",
        "      target = to_learn(vec)\n",
        "\n",
        "      # This function gets the model output\n",
        "      output = model(vec.view(1, 1)) # first dimension is batch size (here only one element of one dimension = (1,1))\n",
        "      \n",
        "      # This function calculates the loss using the loss function defined before\n",
        "      loss = loss_function(output, target)\n",
        "\n",
        "      print(\"Loss: \", loss.item())\n",
        "      if loss.item() < 3: # just that the output is not so messy :)\n",
        "        print('Weight:', model.linear.weight.item(), 'Bias:', model.linear.bias.item())\n",
        "      \n",
        "      \n",
        "      loss.backward()\n",
        "      optimizer.step()\n"
      ],
      "metadata": {
        "id": "9A4sPUtz4tQk"
      },
      "execution_count": null,
      "outputs": []
    },
    {
      "cell_type": "markdown",
      "source": [
        "# 3 Classification\n",
        "\n",
        "Here, we train a second small model on classifying numbers. We learn about the softmax and a new loss function for classification."
      ],
      "metadata": {
        "id": "7Da2G2A0NgRZ"
      }
    },
    {
      "cell_type": "markdown",
      "source": [
        "## Convert scores in probabilities\n",
        "\n",
        "Recall the softmax function: \n",
        "\n",
        "$$ \\mathrm{softmax}(x_i)= \\frac{\\exp(x_i)}{\\sum_j \\exp(x_j)}$$"
      ],
      "metadata": {
        "id": "LidxL3asGoGl"
      }
    },
    {
      "cell_type": "code",
      "source": [
        "import torch.nn.functional as F"
      ],
      "metadata": {
        "id": "IvTbNkeCaWCw"
      },
      "execution_count": null,
      "outputs": []
    },
    {
      "cell_type": "code",
      "source": [
        "data = torch.randn(2, 5)\n",
        "print(data)\n",
        "\n",
        "# Put \"data\" through a softmax and explain the output\n",
        "# Hint: for softmax you need to define a dimension by saying (data, dim=0)\n",
        "# dimension specifies along which dimension softmax will be computed\n",
        "data_columns = F.softmax(data, dim=0)\n",
        "\n",
        "\n",
        "# EXERCISE: What happens if you change the dimensionality to 1? \n",
        "# What does the \"dim\" indiciation mean? \n",
        "data_rows = F.softmax(data, dim=1)\n",
        "\n",
        "data_columns, data_rows"
      ],
      "metadata": {
        "id": "MqP-NSwUHAfS"
      },
      "execution_count": null,
      "outputs": []
    },
    {
      "cell_type": "markdown",
      "source": [
        "### 3 a)\n",
        "What will the output of $\\mathrm{softmax}((1, 2))$ be? Don't calculate, make an educated guess.\n",
        "\n",
        "1. [0.41, 0.82]\n",
        "2. [0.33, 0.67]\n",
        "3. [e^1, e^2]\n",
        "4. [0.27, 0.73]"
      ],
      "metadata": {
        "id": "-tDuwQpeHD63"
      }
    },
    {
      "cell_type": "markdown",
      "source": [
        "## Negative Log Likelihood Loss\n",
        "\n",
        "... is a loss function used for multi-class classification.\n",
        "\n",
        "$$ L(x,y) = - x_y,$$\n",
        "where x is the output of the model (log-probabilities) and y is the number of the correct class (not the class itself, but the position where the log-probability of the correct class should be in vector x)\n",
        "\n",
        "In other words:\n",
        "$$ L(p,y) = - log(p)_y $$ \n",
        "\n",
        "where p are the probabilies (after applying softmax on the scores) and y is the number of the correct class as before."
      ],
      "metadata": {
        "id": "ETR20nVbOX1U"
      }
    },
    {
      "cell_type": "code",
      "source": [
        "scores = torch.Tensor([1,2,3]) # assume these are calculated by our model\n",
        "probabilies = F.softmax(x, dim=0)\n",
        "log_probabilies = F.log_softmax(x, dim=0)\n",
        "probabilies, log_probabilies # log-probabilites are always negative!"
      ],
      "metadata": {
        "id": "tI4-hApAPRzD"
      },
      "execution_count": null,
      "outputs": []
    },
    {
      "cell_type": "markdown",
      "source": [
        "We use the - because log-probabilites are always negative. This way the loss becomes positive. \n",
        "\n",
        "Now, imagine the correct class would have been class 0: Then the NLL-Loss would be large: 2.4076. The model was very confident that the predicted class should be class 2 (and hence, it gave class 2 a high probabilities = 66%)\n",
        "\n",
        "--------\n",
        "Keep in mind:\n",
        "Large probability to the wrong class = small probability to the correct class = very small log-probability = high loss"
      ],
      "metadata": {
        "id": "Bcb5YgfhQLYe"
      }
    },
    {
      "cell_type": "code",
      "source": [
        "from torch._C import dtype\n",
        "NLL_function = nn.NLLLoss()\n",
        "correct_label = torch.LongTensor([0]) # you can change the correct class to 0, 1 or 2\n",
        "\n",
        "NLL_function(log_probabilies.view((1,-1)), correct_label) # we need to reshape, because the first dim should be the batch size!"
      ],
      "metadata": {
        "id": "JB2E_f5eaYtM"
      },
      "execution_count": null,
      "outputs": []
    },
    {
      "cell_type": "markdown",
      "source": [
        "## Classification Neural Network\n",
        "\n",
        "Here, we have a small example of a neural network for classification. We use only two classes and scalar input: $\\mathrm{label}(x) = \\begin{cases}\n",
        "0, &  x < 0 \\\\\n",
        "1, & \\mathrm{otherwise}\n",
        "\\end{cases}$"
      ],
      "metadata": {
        "id": "OD-XA0m0HQPw"
      }
    },
    {
      "cell_type": "code",
      "source": [
        "def generate_input(num):\n",
        "  return torch.rand(num) * 10 - 5 # use data from -5 to +5\n",
        "\n",
        "def get_label(x):\n",
        "  if x < 0:\n",
        "    label = 0\n",
        "  else:\n",
        "    label = 1\n",
        "  return torch.LongTensor([label])\n",
        "\n",
        "sample_input = generate_input(1)\n",
        "sample_input, get_label(sample_input)"
      ],
      "metadata": {
        "id": "RRNd2nauHMIE",
        "outputId": "88495dbe-ce3d-4a49-a904-db165cad8287",
        "colab": {
          "base_uri": "https://localhost:8080/",
          "height": 343
        }
      },
      "execution_count": null,
      "outputs": [
        {
          "output_type": "error",
          "ename": "NameError",
          "evalue": "ignored",
          "traceback": [
            "\u001b[0;31m---------------------------------------------------------------------------\u001b[0m",
            "\u001b[0;31mNameError\u001b[0m                                 Traceback (most recent call last)",
            "\u001b[0;32m<ipython-input-1-0419b8c0ea5f>\u001b[0m in \u001b[0;36m<module>\u001b[0;34m\u001b[0m\n\u001b[1;32m      9\u001b[0m   \u001b[0;32mreturn\u001b[0m \u001b[0mtorch\u001b[0m\u001b[0;34m.\u001b[0m\u001b[0mLongTensor\u001b[0m\u001b[0;34m(\u001b[0m\u001b[0;34m[\u001b[0m\u001b[0mlabel\u001b[0m\u001b[0;34m]\u001b[0m\u001b[0;34m)\u001b[0m\u001b[0;34m\u001b[0m\u001b[0;34m\u001b[0m\u001b[0m\n\u001b[1;32m     10\u001b[0m \u001b[0;34m\u001b[0m\u001b[0m\n\u001b[0;32m---> 11\u001b[0;31m \u001b[0msample_input\u001b[0m \u001b[0;34m=\u001b[0m \u001b[0mgenerate_input\u001b[0m\u001b[0;34m(\u001b[0m\u001b[0;36m1\u001b[0m\u001b[0;34m)\u001b[0m\u001b[0;34m\u001b[0m\u001b[0;34m\u001b[0m\u001b[0m\n\u001b[0m\u001b[1;32m     12\u001b[0m \u001b[0msample_input\u001b[0m\u001b[0;34m,\u001b[0m \u001b[0mget_label\u001b[0m\u001b[0;34m(\u001b[0m\u001b[0msample_input\u001b[0m\u001b[0;34m)\u001b[0m\u001b[0;34m\u001b[0m\u001b[0;34m\u001b[0m\u001b[0m\n",
            "\u001b[0;32m<ipython-input-1-0419b8c0ea5f>\u001b[0m in \u001b[0;36mgenerate_input\u001b[0;34m(num)\u001b[0m\n\u001b[1;32m      1\u001b[0m \u001b[0;32mdef\u001b[0m \u001b[0mgenerate_input\u001b[0m\u001b[0;34m(\u001b[0m\u001b[0mnum\u001b[0m\u001b[0;34m)\u001b[0m\u001b[0;34m:\u001b[0m\u001b[0;34m\u001b[0m\u001b[0;34m\u001b[0m\u001b[0m\n\u001b[0;32m----> 2\u001b[0;31m   \u001b[0;32mreturn\u001b[0m \u001b[0mtorch\u001b[0m\u001b[0;34m.\u001b[0m\u001b[0mrand\u001b[0m\u001b[0;34m(\u001b[0m\u001b[0mnum\u001b[0m\u001b[0;34m)\u001b[0m \u001b[0;34m*\u001b[0m \u001b[0;36m10\u001b[0m \u001b[0;34m-\u001b[0m \u001b[0;36m5\u001b[0m \u001b[0;31m# use data from -5 to +5\u001b[0m\u001b[0;34m\u001b[0m\u001b[0;34m\u001b[0m\u001b[0m\n\u001b[0m\u001b[1;32m      3\u001b[0m \u001b[0;34m\u001b[0m\u001b[0m\n\u001b[1;32m      4\u001b[0m \u001b[0;32mdef\u001b[0m \u001b[0mget_label\u001b[0m\u001b[0;34m(\u001b[0m\u001b[0mx\u001b[0m\u001b[0;34m)\u001b[0m\u001b[0;34m:\u001b[0m\u001b[0;34m\u001b[0m\u001b[0;34m\u001b[0m\u001b[0m\n\u001b[1;32m      5\u001b[0m   \u001b[0;32mif\u001b[0m \u001b[0mx\u001b[0m \u001b[0;34m<\u001b[0m \u001b[0;36m0\u001b[0m\u001b[0;34m:\u001b[0m\u001b[0;34m\u001b[0m\u001b[0;34m\u001b[0m\u001b[0m\n",
            "\u001b[0;31mNameError\u001b[0m: name 'torch' is not defined"
          ]
        }
      ]
    },
    {
      "cell_type": "code",
      "source": [
        "class ClassificationModel(nn.Module):\n",
        "  \n",
        "  def __init__(self, vocab_size, num_labels):\n",
        "    super(ClassificationModel, self).__init__()\n",
        "    self.linear = nn.Linear(vocab_size, num_labels)\n",
        "  \n",
        "  def forward(self, vec):\n",
        "    return F.log_softmax(self.linear(vec), dim=1)"
      ],
      "metadata": {
        "id": "CWZyEtx1Hsfr"
      },
      "execution_count": null,
      "outputs": []
    },
    {
      "cell_type": "code",
      "source": [
        "model = ClassificationModel(1, 2)  # one-dim input (scalar) and two output classes\n",
        "\n",
        "      \n",
        "loss_function = nn.NLLLoss() # NLLLoss() Negative Log Likelihood, aka multi-class cross-entropy \n",
        "optimizer = optim.SGD(model.parameters(), lr=0.1) # Stochastic Gradient Descent as optimizer \n",
        "\n",
        "losses = [] # keep track of the loss\n",
        "\n",
        "for epoch in range(100): \n",
        "    batch_loss = 0\n",
        "    for vec in generate_input(4):\n",
        "\n",
        "      # Let's clear the gradients before we start training since PyTorch accumulates them\n",
        "      model.zero_grad()\n",
        "      \n",
        "      target = get_label(vec)\n",
        "\n",
        "      # This function gets the logit probabilities \n",
        "      log_probs = model(vec.view(1,-1))\n",
        "      \n",
        "      # This function calculates the loss \n",
        "      loss = loss_function(log_probs, target)\n",
        "      \n",
        "      print(\"Loss: \", loss.item())\n",
        "      batch_loss += loss.item()\n",
        "      loss.backward()\n",
        "      optimizer.step()\n",
        "    losses.append(batch_loss)\n",
        "\n",
        "\n"
      ],
      "metadata": {
        "id": "tBkFp27CHS8A"
      },
      "execution_count": null,
      "outputs": []
    },
    {
      "cell_type": "code",
      "source": [
        "import matplotlib.pyplot as plt\n",
        "import numpy as np\n",
        "\n",
        "# Data for plotting\n",
        "t = range(len(losses))\n",
        "\n",
        "fig, ax = plt.subplots()\n",
        "ax.plot(t, losses)\n",
        "\n",
        "ax.set(xlabel='Training Steps', ylabel='Loss Values',\n",
        "       title='See how the loss gets lower')\n",
        "ax.grid()\n",
        "\n",
        "plt.show()"
      ],
      "metadata": {
        "id": "0ngZ6ahYHvai"
      },
      "execution_count": null,
      "outputs": []
    },
    {
      "cell_type": "markdown",
      "source": [
        "# 4 Word Embeddings - first steps\n",
        "\n",
        "We will start looking at Pytorch and then play with existing embeddings. \n"
      ],
      "metadata": {
        "id": "1D7ifA3zHyEu"
      }
    },
    {
      "cell_type": "code",
      "source": [
        "import torch\n",
        "import torch.nn as nn\n",
        "import torch.nn.functional as F\n",
        "import torch.optim as optim\n",
        "\n",
        "import tqdm\n",
        "\n",
        "# Again random number generator to ensure reproducibility\n",
        "torch.manual_seed(1)"
      ],
      "metadata": {
        "id": "FAPCLjKQJJ1p"
      },
      "execution_count": null,
      "outputs": []
    },
    {
      "cell_type": "markdown",
      "source": [
        "Here is a mini-example of how to initialize the layer randomly and with only two words."
      ],
      "metadata": {
        "id": "VCM3QwsMJTHC"
      }
    },
    {
      "cell_type": "code",
      "source": [
        "# Map words to index to produce one-hot encodings \n",
        "word_to_ix = {\"hello\": 0, \"world\": 1}\n",
        "\n",
        "# Initialize the embedding layer (nn = neural network) with the number of the \n",
        "# vocabulary and the dimensionality of the vectors \n",
        "# here: two words, vectors of 5 dimensions as ouput\n",
        "embeds = nn.Embedding(2, 5) \n",
        "lookup_tensor = torch.tensor(list(word_to_ix.values()), dtype=torch.long)\n",
        "\n",
        "# Create a look up tensor for the random embeddings\n",
        "# for key, index in word_to_ix.items(): \n",
        "embeddings = embeds(lookup_tensor)\n",
        "print(embeddings)"
      ],
      "metadata": {
        "id": "OWENrxtnJPFH"
      },
      "execution_count": null,
      "outputs": []
    },
    {
      "cell_type": "code",
      "source": [
        "embeds(torch.tensor([1])) # same as the second vector above!"
      ],
      "metadata": {
        "id": "yI9SPBQKaKXI"
      },
      "execution_count": null,
      "outputs": []
    },
    {
      "cell_type": "markdown",
      "source": [
        "Let's train our first embeddings. What do SGD and lr mean in the code below? What happens if you increase lr and \n",
        "increase the number of iterations?\n",
        "\n",
        "The below implementation is just a toy implementation. For a better version, see [this word2vec implementation in Pytorch](https://adoni.github.io/2017/11/08/word2vec-pytorch/)"
      ],
      "metadata": {
        "id": "7POAnxt0JbW9"
      }
    },
    {
      "cell_type": "markdown",
      "source": [
        "## Simple Training language\n",
        "We start by defining our own simple training language. Our language only contains words like \"aaa\", \"bbb\", \"ccc\" , … \"xxx\", \"yyy\", \"zzz\". The sentences contain words, whose charachters are close in alphabet. In the resulting word embedding the vectors of \"aaa\" should be closest to \"bbb\" and furthest away from \"zzz\"."
      ],
      "metadata": {
        "id": "rpOtqIUqJd0b"
      }
    },
    {
      "cell_type": "code",
      "source": [
        "import string\n",
        "from random import choice\n",
        "def generate_simple_language_corpus(SENTENCE_NUMBER=500, SENTENCE_LENGTH=7):\n",
        "  alpha_d = dict.fromkeys(string.ascii_lowercase, 0)\n",
        "\n",
        "  vocab_dataset = {}\n",
        "  for c, l in enumerate(alpha_d, 0):\n",
        "      vocab_dataset[c] = l*3\n",
        "\n",
        "  prev_word = None\n",
        "  simple_language_text =\"\"\n",
        "\n",
        "  for s in range(SENTENCE_NUMBER):\n",
        "      sentence = []\n",
        "      start_word = choice(range(0, 18))\n",
        "      for w in range(0, SENTENCE_LENGTH):\n",
        "          i = choice([x for x in range(start_word+w+0, start_word+w+3) if x not in [prev_word]])\n",
        "          sentence.append(vocab_dataset[i])\n",
        "          prev_word = i\n",
        "      simple_language_text += \" \".join(sentence) + \"\\n\"\n",
        "\n",
        "  return simple_language_text\n",
        "\n",
        "print(generate_simple_language_corpus(SENTENCE_NUMBER=10, SENTENCE_LENGTH=7))"
      ],
      "metadata": {
        "id": "qTSRCaXnJQqa"
      },
      "execution_count": null,
      "outputs": []
    },
    {
      "cell_type": "markdown",
      "source": [
        "## 4 a) Train Word Embeddings from our simple language - naive version\n",
        "Now we are using the naive implementation to train Word Embeddings. Try to fill in the gaps \"______\" in the code below to solve this excercise."
      ],
      "metadata": {
        "id": "MkrHEoVbJjfP"
      }
    },
    {
      "cell_type": "code",
      "source": [
        "class NGramLanguageModeler(nn.Module):\n",
        "\n",
        "      def __init__(self, vocab_size, embedding_dim, context_size, hidden_size):\n",
        "          super(NGramLanguageModeler, self).__init__()\n",
        "          self.embeddings = nn.Embedding(vocab_size, embedding_dim)\n",
        "          self.linear1 = nn.Linear(___________, ___________)\n",
        "          self.linear2 = nn.Linear(___________, ___________)\n",
        "\n",
        "      def forward(self, inputs):\n",
        "          embeds = self.embeddings(inputs).view((1, -1))\n",
        "          out = F.relu(self.linear1(embeds))\n",
        "          out = self.linear2(out)\n",
        "          log_probs = F.log_softmax(out, dim=1)\n",
        "          return log_probs"
      ],
      "metadata": {
        "id": "QVv_aH8fJ0Yx"
      },
      "execution_count": null,
      "outputs": []
    },
    {
      "cell_type": "markdown",
      "source": [
        "We have defined our neural network. Now, we want to train it. Below is the training loop as we have seen in the previous two examples. Fill in the missing code in the gaps!"
      ],
      "metadata": {
        "id": "Fe75aUKEJ2va"
      }
    },
    {
      "cell_type": "code",
      "source": [
        "def train_word_embedding_model(training_corpus, EMBEDDING_DIM = 10, EPOCHS = 300, CONTEXT_SIZE = 2, HIDDEN_SIZE = 8):\n",
        "  test_sentence = training_corpus.split()\n",
        "\n",
        "\n",
        "  # we should tokenize the input, but we will ignore that for now\n",
        "  # build a list of tuples.  Each tuple is ([ word_i-2, word_i-1 ], target word)\n",
        "  trigrams = [([test_sentence[i-1], test_sentence[i + 1]], test_sentence[i ])\n",
        "              for i in range(1,len(test_sentence) - 1)]\n",
        "  # print the first 3, just so you can see what they look like\n",
        "  print(trigrams[:3])\n",
        "\n",
        "  # deduplicate \n",
        "  vocab = set(test_sentence)\n",
        "\n",
        "  # generate the word index\n",
        "  word_to_ix = {word: i for i, word in enumerate(vocab)}\n",
        "\n",
        "\n",
        "  losses = []\n",
        "  loss_function = nn.NLLLoss()\n",
        "  model = NGramLanguageModeler(len(vocab), EMBEDDING_DIM, CONTEXT_SIZE, HIDDEN_SIZE)\n",
        "\n",
        "  # Exercise: What do SGD and lr mean? What happenes if you change them?\n",
        "  optimizer = optim.SGD(model.parameters(), lr=0.001)\n",
        "\n",
        "\n",
        "  for epoch in tqdm.tqdm(range(EPOCHS),total=EPOCHS):\n",
        "      total_loss = 0\n",
        "      for context, target in trigrams:\n",
        "\n",
        "          # Step 1. Prepare the inputs to be passed to the model (i.e, turn the words\n",
        "          # into integer indices and wrap them in tensors)\n",
        "          context_idxs = torch.tensor([word_to_ix[w] for w in context], dtype=torch.long)\n",
        "\n",
        "          # Step 2. Recall that torch *accumulates* gradients. Before passing in a\n",
        "          # new instance, you need to zero out the gradients from the old\n",
        "          # instance\n",
        "          __________\n",
        "\n",
        "          # Step 3. Run the forward pass, getting log probabilities over next\n",
        "          # words\n",
        "          log_probs = model(context_idxs)\n",
        "\n",
        "          # Step 4. Compute your loss function. (Again, Torch wants the target\n",
        "          # word wrapped in a tensor)\n",
        "          loss = loss_function(log_probs, torch.tensor([word_to_ix[target]], dtype=torch.long))\n",
        "\n",
        "          # Step 5. Do the backward pass and update the gradient\n",
        "          ___________\n",
        "          ___________\n",
        "\n",
        "          # Get the Python number from a 1-element Tensor by calling tensor.item()\n",
        "          total_loss += loss.item()\n",
        "\n",
        "      #print(\"\\t\", total_loss)\n",
        "      losses.append(total_loss)\n",
        "  print(losses) # The loss decreased every iteration over the training data!\n",
        "\n",
        "  return model, word_to_ix, losses\n",
        "\n",
        "\n",
        "training_corpus = generate_simple_language_corpus(SENTENCE_NUMBER=500, SENTENCE_LENGTH=7)\n",
        "model, word_to_ix, losses = train_word_embedding_model(training_corpus, EMBEDDING_DIM=5, EPOCHS=10, CONTEXT_SIZE = 2)"
      ],
      "metadata": {
        "id": "N6DtNWXyJj65"
      },
      "execution_count": null,
      "outputs": []
    },
    {
      "cell_type": "markdown",
      "source": [
        "## 4 b) Work with our Word-Embeddings\n",
        "Now we are going to analyse how good our word embeddings were. For that we define first a function returning us the word embedding for a given word, and then a function sorting all word embeddings after their similarity to our target word.\n",
        "\n",
        "Can you tweak the parameters from the word-embedding generation function to produce better results?"
      ],
      "metadata": {
        "id": "jcx6vlAwKe44"
      }
    },
    {
      "cell_type": "code",
      "source": [
        "def get_word_embedding_for_word(word_to_test, word_to_ix):\n",
        "  word_to_test_ix = word_to_ix[word_to_test]\n",
        "  word_to_test_torch = torch.tensor([word_to_test_ix], dtype=torch.long)\n",
        "  \n",
        "  embedding_of_word_to_test = model.embeddings(word_to_test_torch)\n",
        "  return embedding_of_word_to_test\n",
        "\n",
        "def most_similar(word_to_test, word_to_ix):\n",
        "  test_embedding = get_word_embedding_for_word(word_to_test, word_to_ix)\n",
        "\n",
        "  # get embeddings for all other possible words like aaa bbb ccc\n",
        "  cos = torch.nn.CosineSimilarity()\n",
        "  results = {}\n",
        "  for c in string.ascii_lowercase:\n",
        "    c_embedding = get_word_embedding_for_word(___________, word_to_ix)\n",
        "\n",
        "    cosine_similarity = cos(___________, ___________)\n",
        "    results[___________] = cosine_similarity.item()\n",
        "  sorted_results =  dict(sorted(results.items(), key=lambda item: -item[1]))\n",
        "  return sorted_results\n",
        "\n",
        "sims = most_similar(\"eee\", word_to_ix)\n",
        "\n",
        "for k,v in sims.items():\n",
        "  print(\"{}: {}\".format(k,v))"
      ],
      "metadata": {
        "id": "d9z_WBg1KWrI"
      },
      "execution_count": null,
      "outputs": []
    },
    {
      "cell_type": "markdown",
      "source": [
        "## Better Implementation\n",
        "We are using now our generated simple language and a much more optimized implementation of word-embeddings, the ones in the library [gensim](https://radimrehurek.com/gensim/).\n",
        "\n",
        "Again we are displaying the most similar vectors. Can you notice a difference in performance to our naive implementation?"
      ],
      "metadata": {
        "id": "RAG33ZVTKon5"
      }
    },
    {
      "cell_type": "code",
      "source": [
        "import gensim \n",
        "from sklearn.decomposition import PCA \n",
        "from matplotlib import pyplot \n",
        "\n",
        "import warnings \n",
        "warnings.filterwarnings('ignore') \n",
        "\n",
        "training_corpus =  generate_simple_language_corpus(SENTENCE_NUMBER=3000, SENTENCE_LENGTH=7)\n",
        "\n",
        "# we have to convert the corpus to a different form for gensim\n",
        "training_corpus_gensim = [w.split(\" \") for w in training_corpus.split(\"\\n\")]\n",
        "\n",
        "\n",
        "model = gensim.models.Word2Vec(training_corpus_gensim, window=2) \n",
        "\n",
        "model.most_similar('ccc')"
      ],
      "metadata": {
        "id": "s7qzbLbiKpCY"
      },
      "execution_count": null,
      "outputs": []
    },
    {
      "cell_type": "markdown",
      "metadata": {
        "id": "bW3IPEwgLCrO"
      },
      "source": [
        "# 5: Use existing embeddings\n",
        "\n",
        "Now we are using already pre-trained word embeddings.\n",
        "The code below exemplifies how to load a trained embedding model in the gensim library. "
      ]
    },
    {
      "cell_type": "code",
      "execution_count": null,
      "metadata": {
        "id": "aMaN6E36JzNI"
      },
      "outputs": [],
      "source": [
        "# Let's first load a small subset of word2vec embeddings that have been trained on a \n",
        "# large corpus of news documents  \n",
        "!wget https://github.com/dgromann/SemanticComputing/raw/master/tutorial6/word2vec_embeddings.bin\n",
        "!wget https://raw.githubusercontent.com/dgromann/SemComp_WS2018/master/Tutorial6/analogy.txt\n"
      ]
    },
    {
      "cell_type": "code",
      "execution_count": null,
      "metadata": {
        "id": "aZG8KQMILXz-"
      },
      "outputs": [],
      "source": [
        "import gensim\n",
        "from sklearn.decomposition import PCA\n",
        "from matplotlib import pyplot\n",
        "\n",
        "import warnings\n",
        "warnings.filterwarnings('ignore')"
      ]
    },
    {
      "cell_type": "code",
      "execution_count": null,
      "metadata": {
        "id": "69aLE4-7LxlO"
      },
      "outputs": [],
      "source": [
        "# Let's load the model\n",
        "model = gensim.models.KeyedVectors.load_word2vec_format(\"word2vec_embeddings.bin\", binary=True)\n",
        "\n",
        "# Print the length fo the whole vocabulary \n",
        "print(___________)\n",
        "\n",
        "# Print the embedding of the  word  good\n",
        "print(___________)\n",
        "\n",
        "# Get the 10 most similar words of \"good\"\n",
        "print(___________)\n",
        "\n",
        "# Check whether our embeddings are good at the analogy task, what is the result to \"?-man\" when looking at \"queen-king\"?\n",
        "print(___________)"
      ]
    }
  ]
}